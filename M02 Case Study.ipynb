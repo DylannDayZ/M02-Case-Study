{
 "cells": [
  {
   "cell_type": "markdown",
   "id": "8699a27d",
   "metadata": {},
   "source": [
    "# # M02 - Lab Case Study: if... else and while statements\n",
    "\n",
    "Christopher Brigham\n",
    "Python Introduction\n",
    "\n",
    "\n",
    "This code should accept student names and GPA averages and test if the student qualifies for Dean's list or Honor's roll.\n"
   ]
  },
  {
   "cell_type": "code",
   "execution_count": null,
   "id": "dcaf9c4c",
   "metadata": {},
   "outputs": [],
   "source": [
    "LastName = input('Enter your Last Name Please : ');\n",
    "if LastName == 'ZZZ':\n",
    "    quit\n",
    "\n",
    "FirstName = input('Enter your First Name Please : ')\n",
    "\n",
    "GPA = input('Enter Your GPA Average here :')"
   ]
  },
  {
   "cell_type": "code",
   "execution_count": null,
   "id": "9c3150cf",
   "metadata": {},
   "outputs": [],
   "source": []
  }
 ],
 "metadata": {
  "kernelspec": {
   "display_name": "Python 3 (ipykernel)",
   "language": "python",
   "name": "python3"
  },
  "language_info": {
   "codemirror_mode": {
    "name": "ipython",
    "version": 3
   },
   "file_extension": ".py",
   "mimetype": "text/x-python",
   "name": "python",
   "nbconvert_exporter": "python",
   "pygments_lexer": "ipython3",
   "version": "3.11.5"
  }
 },
 "nbformat": 4,
 "nbformat_minor": 5
}
